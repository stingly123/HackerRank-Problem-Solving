{
 "cells": [
  {
   "cell_type": "markdown",
   "metadata": {},
   "source": [
    "## Compare the Triplets\n",
    "Alice and Bob each created one problem for HackerRank. A reviewer rates the two challenges, awarding points on a scale from 1 to 100 for three categories: problem clarity, originality, and difficulty.\n",
    "\n",
    "The rating for Alice's challenge is the triplet a = (a[0], a[1], a[2]), and the rating for Bob's challenge is the triplet b = (b[0], b[1], b[2]).\n",
    "\n",
    "The task is to find their comparison points by comparing a[0] with b[0], a[1] with b[1], and a[2] with b[2].\n",
    "\n",
    "If a[i] > b[i], then Alice is awarded 1 point.\n",
    "If a[i] < b[i], then Bob is awarded 1 point.\n",
    "If a[i] = b[i], then neither person receives a point.\n",
    "Comparison points is the total points a person earned.\n",
    "\n",
    "Given a and b, determine their respective comparison points."
   ]
  },
  {
   "cell_type": "code",
   "execution_count": 7,
   "metadata": {},
   "outputs": [],
   "source": [
    "def compareTriplets(a, b):\n",
    "    alice = 0\n",
    "    bob = 0\n",
    "    if a[0] > b[0]:\n",
    "        alice+=1\n",
    "    elif a[0] < b[0]:\n",
    "        bob+=1\n",
    "    \n",
    "    if a[1] > b[1]:\n",
    "        alice+=1\n",
    "    elif a[1] < b[1]:\n",
    "        bob+=1\n",
    "\n",
    "    if a[2] > b[2]:\n",
    "        alice+=1\n",
    "    elif a[2] < b[2]:\n",
    "        bob+=1\n",
    "    \n",
    "    return alice,bob"
   ]
  },
  {
   "cell_type": "code",
   "execution_count": null,
   "metadata": {},
   "outputs": [],
   "source": []
  },
  {
   "cell_type": "markdown",
   "metadata": {},
   "source": [
    "## Diagonal Difference\n",
    "Given a square matrix, calculate the absolute difference between the sums of its diagonals.\n",
    "\n",
    "For example, the square matrix arr is shown below:\n",
    "\n",
    "123\n",
    "\n",
    "456\n",
    "\n",
    "989\n",
    "\n",
    "The left-to-right diagonal = 1+5+9 =15. The right to left diagonal = 3+5+9=17. Their absolute difference is |15-17|=2."
   ]
  },
  {
   "cell_type": "code",
   "execution_count": null,
   "metadata": {},
   "outputs": [],
   "source": [
    "def diagonalDifference(arr):\n",
    "    diag_1 = 0\n",
    "    for i in range(len(arr)):\n",
    "        diag_1 += arr[i][i]\n",
    "    \n",
    "    diag_2 = 0\n",
    "    j = len(arr)-1\n",
    "    i = 0\n",
    "    \n",
    "    while j >=0 and i <= len(arr)-1:\n",
    "        diag_2 += arr[i][j]\n",
    "        j -=1\n",
    "        i += 1\n",
    "            \n",
    "    return abs(diag_1-diag_2)"
   ]
  },
  {
   "cell_type": "code",
   "execution_count": null,
   "metadata": {},
   "outputs": [],
   "source": []
  },
  {
   "cell_type": "markdown",
   "metadata": {},
   "source": [
    "## Plus Minus\n",
    "Given an array of integers, calculate the ratios of its elements that are positive, negative, and zero. Print the decimal value of each fraction on a new line with 6 places after the decimal."
   ]
  },
  {
   "cell_type": "code",
   "execution_count": null,
   "metadata": {},
   "outputs": [],
   "source": [
    "def plusMinus(arr):\n",
    "    pos = 0\n",
    "    neg = 0\n",
    "    zer = 0\n",
    "\n",
    "    for i in range(len(arr)):\n",
    "        if arr[i] > 0:\n",
    "            pos += 1\n",
    "        elif arr[i] < 0:\n",
    "            neg += 1\n",
    "        else:\n",
    "            zer += 1\n",
    "    print(pos/len(arr)) \n",
    "    print(neg/len(arr))\n",
    "    print(zer/len(arr))"
   ]
  },
  {
   "cell_type": "code",
   "execution_count": null,
   "metadata": {},
   "outputs": [],
   "source": []
  },
  {
   "cell_type": "markdown",
   "metadata": {},
   "source": [
    "## Mini-Max Sum:\n",
    "Given five positive integers, find the minimum and maximum values that can be calculated by summing exactly four of the five integers. Then print the respective minimum and maximum values as a single line of two space-separated long integers."
   ]
  },
  {
   "cell_type": "code",
   "execution_count": null,
   "metadata": {},
   "outputs": [],
   "source": [
    "def miniMaxSum(arr):\n",
    "    \n",
    "    max_n = max(arr)\n",
    "    min_n = min(arr)\n",
    "\n",
    "    arr.remove(min_n)\n",
    "    max_sum = sum(arr)\n",
    "    arr.append(min_n)\n",
    "    arr.remove(max_n)\n",
    "    min_sum = sum(arr)\n",
    "\n",
    "    print(str(min_sum) + ' ' + str(max_sum))"
   ]
  },
  {
   "cell_type": "code",
   "execution_count": null,
   "metadata": {},
   "outputs": [],
   "source": []
  },
  {
   "cell_type": "markdown",
   "metadata": {},
   "source": [
    "## Time Conversion\n",
    "Given a time in 12-hour AM/PM format, convert it to military (24-hour) time.\n",
    "\n",
    "Note: Midnight is 12:00:00AM on a 12-hour clock, and 00:00:00 on a 24-hour clock. Noon is 12:00:00PM on a 12-hour clock, and 12:00:00 on a 24-hour clock."
   ]
  },
  {
   "cell_type": "code",
   "execution_count": 8,
   "metadata": {},
   "outputs": [],
   "source": [
    "def timeConversion(s):\n",
    "    if 'PM' in s:\n",
    "        if s[0:2] == '12':\n",
    "            return s.strip('PM')\n",
    "        else:\n",
    "            new_h = int(s[0:2]) + 12\n",
    "            return s.replace(s[0:2],str(new_h)).strip('PM')\n",
    "\n",
    "    if 'AM' in s:\n",
    "        if s[0:2] == '12':\n",
    "            return s.replace(s[0:2],'00').strip('AM')\n",
    "        else:\n",
    "            return s.strip('AM')"
   ]
  },
  {
   "cell_type": "code",
   "execution_count": null,
   "metadata": {},
   "outputs": [],
   "source": []
  },
  {
   "cell_type": "markdown",
   "metadata": {},
   "source": [
    "## Weighted Uniform Strings\n",
    "A weighted string is a string of lowercase English letters where each letter has a weight. Character weights are 1 to 26 from a to z as shown below:\n",
    "*see diagram from HackerRank\n",
    "\n",
    "We define the following terms:\n",
    "The weight of a string is the sum of the weights of all the string's characters. For example:\n",
    "*see diagram from HackerRank\n",
    "\n",
    "A uniform string consists of a single character repeated zero or more times. For example, ccc and a are uniform strings, but bcb and cd are not.\n",
    "\n",
    "Given a string, s, let U be the set of weights for all possible uniform contiguous substrings of string s. You have to answer  queries, where each query i consists of a single integer, x[i]. For each query, print Yes on a new line if x[i] is an element of set U; otherwise, print No instead."
   ]
  },
  {
   "cell_type": "code",
   "execution_count": 9,
   "metadata": {},
   "outputs": [],
   "source": [
    "def weightedUniformStrings(s, queries):\n",
    "    lis = set()\n",
    "    prev = -1\n",
    "    length = 0\n",
    "    \n",
    "    weights = range(1,27)\n",
    "    dic = dict(zip(string.ascii_lowercase,weights))\n",
    "\n",
    "    for c in s:\n",
    "        lis.add(dic[c])\n",
    "        if prev == c:\n",
    "            length += 1\n",
    "            lis.add(length*dic[c])\n",
    "        else:\n",
    "            prev = c\n",
    "            length = 1\n",
    "    \n",
    "    rval = []\n",
    "    for q in queries:\n",
    "        if q in lis:\n",
    "            rval.append(\"Yes\")\n",
    "        else:\n",
    "            rval.append(\"No\")\n",
    "    return rval"
   ]
  },
  {
   "cell_type": "code",
   "execution_count": null,
   "metadata": {},
   "outputs": [],
   "source": []
  },
  {
   "cell_type": "markdown",
   "metadata": {},
   "source": [
    "## Grading Students\n",
    "HackerLand University has the following grading policy:\n",
    "\n",
    "1. Every student receives a grade in the inclusive range from 0 to 100.\n",
    "2. Any grade less than 40 is a failing grade.\n",
    "\n",
    "Sam is a professor at the university and likes to round each student's  according to these rules:\n",
    "\n",
    "1. If the difference between the grade and the next multiple of 5 is less than 3, round grade up to the next multiple of 5.\n",
    "2. If the value of grade is less than 38, no rounding occurs as the result will still be a failing grade.\n",
    "For example, grade = 84 will be rounded to 85 but grade = 29 will not be rounded because the rounding would result in a number that is less than 40.\n",
    "Given the initial value of grade for each of Sam's n students, write code to automate the rounding process."
   ]
  },
  {
   "cell_type": "code",
   "execution_count": 20,
   "metadata": {},
   "outputs": [
    {
     "data": {
      "text/plain": [
       "[0,\n",
       " 5,\n",
       " 10,\n",
       " 15,\n",
       " 20,\n",
       " 25,\n",
       " 30,\n",
       " 35,\n",
       " 40,\n",
       " 45,\n",
       " 50,\n",
       " 55,\n",
       " 60,\n",
       " 65,\n",
       " 70,\n",
       " 75,\n",
       " 80,\n",
       " 85,\n",
       " 90,\n",
       " 95,\n",
       " 100]"
      ]
     },
     "execution_count": 20,
     "metadata": {},
     "output_type": "execute_result"
    }
   ],
   "source": [
    "[x for x in rg if x%5 ==0]"
   ]
  },
  {
   "cell_type": "code",
   "execution_count": 21,
   "metadata": {},
   "outputs": [],
   "source": [
    "x = 65"
   ]
  },
  {
   "cell_type": "code",
   "execution_count": 49,
   "metadata": {},
   "outputs": [
    {
     "name": "stdout",
     "output_type": "stream",
     "text": [
      "['6', '3']\n"
     ]
    },
    {
     "data": {
      "text/plain": [
       "63"
      ]
     },
     "execution_count": 49,
     "metadata": {},
     "output_type": "execute_result"
    }
   ],
   "source": [
    "l = list(str(x))\n",
    "l[-1] = '3'\n",
    "print(l)\n",
    "int(''.join(l))"
   ]
  },
  {
   "cell_type": "code",
   "execution_count": 101,
   "metadata": {},
   "outputs": [],
   "source": [
    "def gradingStudents(grades):\n",
    "    rounded_grades = []\n",
    "    list_grades = []\n",
    "    \n",
    "    for grade in grades:\n",
    "        if grade < 38:\n",
    "            rounded_grades.append(grade)\n",
    "            grades.remove(grade)\n",
    "    \n",
    "    for grade in grades:\n",
    "        list_grades.append(list(str(grade)))\n",
    "    \n",
    "    for lis in list_grades:\n",
    "        if len(lis) < 2:\n",
    "            rounded_grades.append(int(''.join(lis)))\n",
    "            \n",
    "        elif lis[0] == '3' and lis[-1]=='8':\n",
    "            rounded_grades.append(40)\n",
    "        elif lis[0] == '3' and lis[-1]=='9':\n",
    "            rounded_grades.append(40)\n",
    "        elif int(lis[0]) <= 3:\n",
    "            rounded_grades.append(int(''.join(lis)))\n",
    "        elif lis[-1] == '3' or lis[-1]== '4':\n",
    "            lis[-1] = '5'\n",
    "            rounded_grades.append(int(''.join(lis)))\n",
    "        elif lis[-1] == '8' or lis[-1] == '9':\n",
    "            if len(lis) == 2:\n",
    "                lis[0] = str(int(lis[0]) + 1)\n",
    "                lis[-1] = '0'\n",
    "            else:\n",
    "                lis = '10'\n",
    "            \n",
    "            rounded_grades.append(int(''.join(lis)))\n",
    "        \n",
    "        else:\n",
    "             rounded_grades.append(int(''.join(lis)))\n",
    "    \n",
    "    return rounded_grades\n"
   ]
  },
  {
   "cell_type": "code",
   "execution_count": 102,
   "metadata": {},
   "outputs": [
    {
     "data": {
      "text/plain": [
       "[30, 40, 40, 61, 62, 65, 65]"
      ]
     },
     "execution_count": 102,
     "metadata": {},
     "output_type": "execute_result"
    }
   ],
   "source": [
    "gradingStudents([30,38,39,61,62,63,64])"
   ]
  },
  {
   "cell_type": "code",
   "execution_count": 70,
   "metadata": {},
   "outputs": [
    {
     "name": "stdout",
     "output_type": "stream",
     "text": [
      "['6', '3']\n"
     ]
    }
   ],
   "source": [
    "lis = ['6', '3']\n",
    "if lis[-1] == 3 or lis[-1]==4:\n",
    "    lis[-1] = '5'\n",
    "print(lis)"
   ]
  },
  {
   "cell_type": "code",
   "execution_count": 69,
   "metadata": {},
   "outputs": [
    {
     "data": {
      "text/plain": [
       "['6', '5']"
      ]
     },
     "execution_count": 69,
     "metadata": {},
     "output_type": "execute_result"
    }
   ],
   "source": [
    "lis = ['6', '3']\n",
    "lis[-1] = '5'\n",
    "lis"
   ]
  },
  {
   "cell_type": "code",
   "execution_count": 61,
   "metadata": {},
   "outputs": [],
   "source": [
    "#Solution from web\n",
    "def gradingStudents(grades):\n",
    "    res = []\n",
    "    for grade in grades:\n",
    "        if grade >= 38 and grade % 5 >= 3:\n",
    "            grade = grade + 5 - (grade % 5)\n",
    "        res.append(grade)\n",
    "    return res"
   ]
  },
  {
   "cell_type": "code",
   "execution_count": null,
   "metadata": {},
   "outputs": [],
   "source": []
  },
  {
   "cell_type": "markdown",
   "metadata": {},
   "source": [
    "## Apple and Orange\n",
    "\n",
    "Sam's house has an apple tree and an orange tree that yield an abundance of fruit. In the diagram below, the red region denotes his house, where s is the start point, and t is the endpoint. The apple tree is to the left of his house, and the orange tree is to its right. You can assume the trees are located on a single point, where the apple tree is at point a, and the orange tree is at point b."
   ]
  },
  {
   "cell_type": "code",
   "execution_count": 237,
   "metadata": {},
   "outputs": [],
   "source": [
    "#my code. works but not fast enough for me to pass the challenge.\n",
    "def countApplesAndOranges(s, t, a, b, apples, oranges):\n",
    "    apple_count = 0\n",
    "    orange_count = 0\n",
    "    house = list(range(s,t+1))\n",
    "    for apple in apples:\n",
    "        if a+apple in house:\n",
    "            apple_count+=1\n",
    "    for orange in oranges:\n",
    "        if b+orange in house:\n",
    "            orange_count+=1\n",
    "    \n",
    "    return print(apple_count, orange_count, sep='\\n')"
   ]
  },
  {
   "cell_type": "code",
   "execution_count": 238,
   "metadata": {},
   "outputs": [
    {
     "name": "stdout",
     "output_type": "stream",
     "text": [
      "1\n",
      "1\n"
     ]
    }
   ],
   "source": [
    "countApplesAndOranges(7, 11, 5, 15, [-2,2,1], [5,-6])"
   ]
  },
  {
   "cell_type": "code",
   "execution_count": 87,
   "metadata": {},
   "outputs": [
    {
     "name": "stdout",
     "output_type": "stream",
     "text": [
      "0\n",
      "0\n"
     ]
    }
   ],
   "source": [
    "countApplesAndOranges(2, 3, 1, 5, [-1], [-5])"
   ]
  },
  {
   "cell_type": "code",
   "execution_count": 90,
   "metadata": {},
   "outputs": [],
   "source": [
    "#web solution\n",
    "def countApplesAndOranges(s, t, a, b, apples, oranges):\n",
    "    print(sum([1 for x in apples if (x + a) >= s and (x + a) <= t]))\n",
    "    print(sum([1 for x in oranges if (x + b) >= s and (x + b) <= t]))"
   ]
  },
  {
   "cell_type": "code",
   "execution_count": 88,
   "metadata": {},
   "outputs": [
    {
     "name": "stdout",
     "output_type": "stream",
     "text": [
      "First line\n",
      "Second line\n"
     ]
    }
   ],
   "source": [
    "print ('First line\\nSecond line' )"
   ]
  },
  {
   "cell_type": "code",
   "execution_count": 157,
   "metadata": {},
   "outputs": [],
   "source": [
    "x = 5\n",
    "y = 6"
   ]
  },
  {
   "cell_type": "code",
   "execution_count": 91,
   "metadata": {},
   "outputs": [
    {
     "ename": "SyntaxError",
     "evalue": "invalid syntax (<ipython-input-91-340abd1cd41d>, line 1)",
     "output_type": "error",
     "traceback": [
      "\u001b[0;36m  File \u001b[0;32m\"<ipython-input-91-340abd1cd41d>\"\u001b[0;36m, line \u001b[0;32m1\u001b[0m\n\u001b[0;31m    print(x'\\n'y)\u001b[0m\n\u001b[0m              ^\u001b[0m\n\u001b[0;31mSyntaxError\u001b[0m\u001b[0;31m:\u001b[0m invalid syntax\n"
     ]
    }
   ],
   "source": [
    "print(x'\\n'y)"
   ]
  },
  {
   "cell_type": "code",
   "execution_count": 93,
   "metadata": {},
   "outputs": [
    {
     "data": {
      "text/plain": [
       "10"
      ]
     },
     "execution_count": 93,
     "metadata": {},
     "output_type": "execute_result"
    }
   ],
   "source": [
    "sum([1,2,3,4])"
   ]
  },
  {
   "cell_type": "code",
   "execution_count": 94,
   "metadata": {},
   "outputs": [
    {
     "data": {
      "text/plain": [
       "[1, 1, 1]"
      ]
     },
     "execution_count": 94,
     "metadata": {},
     "output_type": "execute_result"
    }
   ],
   "source": [
    "lis = [1,2,3]\n",
    "[1 for x in lis]"
   ]
  },
  {
   "cell_type": "markdown",
   "metadata": {},
   "source": [
    "# Kangaroo Jumps:\n",
    "\n",
    "You are choreographing a circus show with various animals. For one act, you are given two kangaroos on a number line ready to jump in the positive direction (i.e, toward positive infinity).\n",
    "\n",
    "The first kangaroo starts at location  and moves at a rate of  meters per jump.\n",
    "The second kangaroo starts at location  and moves at a rate of  meters per jump.\n",
    "You have to figure out a way to get both kangaroos at the same location at the same time as part of the show. If it is possible, return YES, otherwise return NO.\n",
    "\n",
    "For example, kangaroo  starts at  with a jump distance  and kangaroo  starts at  with a jump distance of . After one jump, they are both at , (, ), so our answer is YES.\n",
    "\n",
    "nput Format\n",
    "\n",
    "A single line of four space-separated integers denoting the respective values of x1, v1, x2, and v2.\n",
    "\n",
    "Constraints: \n",
    "0 <= x1 <= x2 <= 10000\n",
    "1 <= v1 <= 10000\n",
    "1 <= v2 <= 10000"
   ]
  },
  {
   "cell_type": "code",
   "execution_count": 32,
   "metadata": {},
   "outputs": [],
   "source": [
    "def kangaroo(x_1, v_1, x_2, v_2):\n",
    "    if v_2 > v_1:\n",
    "        return 'NO'\n",
    "    elif v_1 - v_2 == 0:\n",
    "        return 'NO'\n",
    "    elif (x_2 - x_1) / (v_1 - v_2) < 0:\n",
    "        return 'NO'\n",
    "    elif (x_2 - x_1) % (v_1 - v_2) == 0:\n",
    "        return 'YES'\n",
    "    else:\n",
    "        return 'NO'"
   ]
  },
  {
   "cell_type": "code",
   "execution_count": 27,
   "metadata": {},
   "outputs": [
    {
     "data": {
      "text/plain": [
       "'YES'"
      ]
     },
     "execution_count": 27,
     "metadata": {},
     "output_type": "execute_result"
    }
   ],
   "source": [
    "kangaroo(0,3,4,2)"
   ]
  },
  {
   "cell_type": "code",
   "execution_count": 28,
   "metadata": {},
   "outputs": [
    {
     "data": {
      "text/plain": [
       "'NO'"
      ]
     },
     "execution_count": 28,
     "metadata": {},
     "output_type": "execute_result"
    }
   ],
   "source": [
    "kangaroo(0,2,5,3)"
   ]
  },
  {
   "cell_type": "code",
   "execution_count": 29,
   "metadata": {},
   "outputs": [
    {
     "data": {
      "text/plain": [
       "'NO'"
      ]
     },
     "execution_count": 29,
     "metadata": {},
     "output_type": "execute_result"
    }
   ],
   "source": [
    "kangaroo(21,6,47,3)"
   ]
  },
  {
   "cell_type": "code",
   "execution_count": 33,
   "metadata": {},
   "outputs": [
    {
     "data": {
      "text/plain": [
       "'NO'"
      ]
     },
     "execution_count": 33,
     "metadata": {},
     "output_type": "execute_result"
    }
   ],
   "source": [
    "kangaroo(43,2,70,2)"
   ]
  },
  {
   "cell_type": "code",
   "execution_count": null,
   "metadata": {},
   "outputs": [],
   "source": []
  },
  {
   "cell_type": "code",
   "execution_count": null,
   "metadata": {},
   "outputs": [],
   "source": []
  },
  {
   "cell_type": "markdown",
   "metadata": {},
   "source": [
    "# Between Two Sets\n",
    "You will be given two arrays of integers and asked to determine all integers that satisfy the following two conditions:\n",
    "\n",
    "1. The elements of the first array are all factors of the integer being considered\n",
    "2. The integer being considered is a factor of all elements of the second array\n",
    "These numbers are referred to as being between the two arrays. You must determine how many such numbers exist.\n",
    "\n",
    "Function Description\n",
    "\n",
    "Complete the getTotalX function in the editor below. It should return the number of integers that are betwen the sets.\n",
    "\n",
    "getTotalX has the following parameter(s):\n",
    "\n",
    "a: an array of integers\n",
    "b: an array of integers\n",
    "Input Format\n",
    "\n",
    "The first line contains two space-separated integers, m and n, the number of elements in array  and the number of elements in array .\n",
    "The second line contains  distinct space-separated integers describing a[i] where 0 <= i <= m.\n",
    "The third line contains  distinct space-separated integers describing b[j] where 0 <= j <= n.\n",
    "\n",
    "Print the number of integers that are considered to be between a and b."
   ]
  },
  {
   "cell_type": "code",
   "execution_count": 58,
   "metadata": {},
   "outputs": [],
   "source": [
    "def getTotalX (a,b):\n",
    "    answer = 0\n",
    "    a_last_counter = a[-1]\n",
    "    while a_last_counter <= b[0]:\n",
    "        a_counter = len(a) - 1\n",
    "        while a_counter > -1:\n",
    "            if a_last_counter % a[a_counter] == 0:\n",
    "                a_counter -= 1\n",
    "            else:\n",
    "                break\n",
    "        b_counter = len(b) - 1\n",
    "        while b_counter > -1:\n",
    "            if b[b_counter] % a_last_counter == 0:\n",
    "                b_counter -= 1\n",
    "            else:\n",
    "                break\n",
    "        if a_counter == -1 and b_counter == -1:\n",
    "            answer += 1\n",
    "    \n",
    "        a_last_counter += 1\n",
    "        \n",
    "    return answer"
   ]
  },
  {
   "cell_type": "code",
   "execution_count": 59,
   "metadata": {},
   "outputs": [
    {
     "data": {
      "text/plain": [
       "3"
      ]
     },
     "execution_count": 59,
     "metadata": {},
     "output_type": "execute_result"
    }
   ],
   "source": [
    "getTotalX ([2,4],[16,32,96])"
   ]
  },
  {
   "cell_type": "code",
   "execution_count": 60,
   "metadata": {},
   "outputs": [
    {
     "data": {
      "text/plain": [
       "0"
      ]
     },
     "execution_count": 60,
     "metadata": {},
     "output_type": "execute_result"
    }
   ],
   "source": [
    "getTotalX([100, 99, 98, 97, 96, 95, 94, 93, 92, 91],[1,2,3,4,5,6,7,8,9,10])"
   ]
  },
  {
   "cell_type": "code",
   "execution_count": null,
   "metadata": {},
   "outputs": [],
   "source": []
  },
  {
   "cell_type": "markdown",
   "metadata": {},
   "source": [
    "## Birthday Chocolate\n",
    "Lily has a chocolate bar that she wants to share it with Ron for his birthday. Each of the squares has an integer on it. She decides to share a contiguous segment of the bar selected such that the length of the segment matches Ron's birth month and the sum of the integers on the squares is equal to his birth day. You must determine how many ways she can divide the chocolate.\n",
    "\n",
    "Consider the chocolate bar as an array of squares, s=[2,2,1,3,2]. She wants to find segments summing to Ron's birth day, d=4 with a length equalling his birth month, m=2. In this case, there are two segments meeting her criteria:  and [2,2] and [1,3]."
   ]
  },
  {
   "cell_type": "code",
   "execution_count": 105,
   "metadata": {},
   "outputs": [],
   "source": [
    "def birthday(s, d, m):\n",
    "    x=0\n",
    "    y=m\n",
    "    counter = 0\n",
    "    while x <= len(s) - m:\n",
    "        if sum(s[x:y]) == d:\n",
    "            counter += 1\n",
    "        x += 1\n",
    "        y += 1\n",
    "    return counter"
   ]
  },
  {
   "cell_type": "code",
   "execution_count": 106,
   "metadata": {},
   "outputs": [
    {
     "data": {
      "text/plain": [
       "2"
      ]
     },
     "execution_count": 106,
     "metadata": {},
     "output_type": "execute_result"
    }
   ],
   "source": [
    "birthday([1,2,1,3,2],3,2)"
   ]
  },
  {
   "cell_type": "code",
   "execution_count": null,
   "metadata": {},
   "outputs": [],
   "source": []
  },
  {
   "cell_type": "markdown",
   "metadata": {},
   "source": [
    "## Divisible Sum Pairs\n",
    "You are given an array of n integers, ar[0],ar[1]..., and a positive integer, k. Find and print the number of (i,j) pairs where i> j and ar[i] + ar[j] is divisible by k.\n",
    "\n",
    "For example, ar = [1,2,3,4,5,6] and k = 5. Our three pairs meeting the criteria are [1,4],[2,3]and [4,6]."
   ]
  },
  {
   "cell_type": "code",
   "execution_count": 166,
   "metadata": {},
   "outputs": [],
   "source": [
    "def divisibleSumPairs(n, k, ar):\n",
    "    counter = 0\n",
    "    i = 0\n",
    "    while i <= (n-2):\n",
    "        for j in range(0,n):\n",
    "            if j > i and (ar[i] + ar[j]) % k == 0:\n",
    "                counter += 1\n",
    "        i += 1\n",
    "    return counter"
   ]
  },
  {
   "cell_type": "code",
   "execution_count": 167,
   "metadata": {},
   "outputs": [
    {
     "data": {
      "text/plain": [
       "5"
      ]
     },
     "execution_count": 167,
     "metadata": {},
     "output_type": "execute_result"
    }
   ],
   "source": [
    "divisibleSumPairs(6, 3, [1,3,2,6,1,2])"
   ]
  },
  {
   "cell_type": "code",
   "execution_count": null,
   "metadata": {},
   "outputs": [],
   "source": []
  },
  {
   "cell_type": "markdown",
   "metadata": {},
   "source": [
    "## Migratory Birds\n",
    "You have been asked to help study the population of birds migrating across the continent. Each type of bird you are interested in will be identified by an integer value. Each time a particular kind of bird is spotted, its id number will be added to your array of sightings. You would like to be able to find out which type of bird is most common given a list of sightings. Your task is to print the type number of that bird and if two or more types of birds are equally common, choose the type with the smallest ID number.\n",
    "\n",
    "For example, assume your bird sightings are of types arr = [1,1,2,2,3] There are two each of types 1 and 2, and one sighting of type 3. Pick the lower of the two types seen twice: type 1."
   ]
  },
  {
   "cell_type": "code",
   "execution_count": 235,
   "metadata": {},
   "outputs": [],
   "source": [
    "def migratoryBirds(arr):\n",
    "    mig_dict = {}\n",
    "    for i in arr:\n",
    "        if i in mig_dict:\n",
    "            mig_dict[i] += 1\n",
    "        if i not in mig_dict:\n",
    "            mig_dict[i] = 1\n",
    "    l = list(mig_dict.values())\n",
    "    max_count = max(l)\n",
    "    max_type_list = [key for key in list(mig_dict.keys()) if mig_dict[key] == max_count]\n",
    "    return min(max_type_list)"
   ]
  },
  {
   "cell_type": "code",
   "execution_count": 236,
   "metadata": {},
   "outputs": [
    {
     "data": {
      "text/plain": [
       "3"
      ]
     },
     "execution_count": 236,
     "metadata": {},
     "output_type": "execute_result"
    }
   ],
   "source": [
    "migratoryBirds([1, 2, 3, 4, 5, 4, 3, 2, 1, 3,4])"
   ]
  },
  {
   "cell_type": "code",
   "execution_count": 169,
   "metadata": {},
   "outputs": [],
   "source": [
    "my_dict = {}\n",
    "my_dict['key'] = 1"
   ]
  },
  {
   "cell_type": "code",
   "execution_count": 209,
   "metadata": {},
   "outputs": [],
   "source": [
    "my_dict['key']+=2"
   ]
  },
  {
   "cell_type": "code",
   "execution_count": 210,
   "metadata": {},
   "outputs": [
    {
     "data": {
      "text/plain": [
       "{'key': 4, 1: 2}"
      ]
     },
     "execution_count": 210,
     "metadata": {},
     "output_type": "execute_result"
    }
   ],
   "source": [
    "my_dict"
   ]
  },
  {
   "cell_type": "code",
   "execution_count": 211,
   "metadata": {},
   "outputs": [
    {
     "data": {
      "text/plain": [
       "True"
      ]
     },
     "execution_count": 211,
     "metadata": {},
     "output_type": "execute_result"
    }
   ],
   "source": [
    "'key' in my_dict"
   ]
  },
  {
   "cell_type": "code",
   "execution_count": 219,
   "metadata": {},
   "outputs": [],
   "source": [
    "my_dict[1] = 4"
   ]
  },
  {
   "cell_type": "code",
   "execution_count": 220,
   "metadata": {},
   "outputs": [
    {
     "data": {
      "text/plain": [
       "{'key': 4, 1: 4}"
      ]
     },
     "execution_count": 220,
     "metadata": {},
     "output_type": "execute_result"
    }
   ],
   "source": [
    "my_dict"
   ]
  },
  {
   "cell_type": "code",
   "execution_count": 221,
   "metadata": {},
   "outputs": [],
   "source": [
    "l = list(my_dict.values())"
   ]
  },
  {
   "cell_type": "code",
   "execution_count": 222,
   "metadata": {},
   "outputs": [
    {
     "data": {
      "text/plain": [
       "4"
      ]
     },
     "execution_count": 222,
     "metadata": {},
     "output_type": "execute_result"
    }
   ],
   "source": [
    "max(l)"
   ]
  },
  {
   "cell_type": "code",
   "execution_count": null,
   "metadata": {},
   "outputs": [],
   "source": []
  },
  {
   "cell_type": "markdown",
   "metadata": {},
   "source": [
    "## Day of the Programmer\n",
    "Marie invented a Time Machine and wants to test it by time-traveling to visit Russia on the Day of the Programmer (the 256th day of the year) during a year in the inclusive range from 1700 to 2700. \n",
    "From 1700 to 1917, Russia's official calendar was the Julian calendar; since 1919 they used the Gregorian calendar system. The transition from the Julian to Gregorian calendar system occurred in 1918, when the next day after January  was February 14. This means that in 2918, February 14 was the 32nd day of the year in Russia.\n",
    "\n",
    "In both calendar systems, February is the only month with a variable amount of days; it has 29 days during a leap year, and 28 days during all other years. In the Julian calendar, leap years are divisible by 4; in the Gregorian calendar, leap years are either of the following:\n",
    "1. Divisible by 400\n",
    "2. Divisible by 4 but not 100\n",
    "\n",
    "Given a year, y, find the date of the 256th day of that year according to the official Russian calendar during that year. Then print it in the format dd.mm.yyyy, where dd is the two-digit day, mm is the two-digit month, and yyyy is .\n",
    "\n",
    "For example, the given y = 1984. 1984 is divisible by 4, so it is a leap year. The 256th day of a leap year after 2918 is September 12, so the answer is 12.09.1984."
   ]
  },
  {
   "cell_type": "code",
   "execution_count": 259,
   "metadata": {},
   "outputs": [],
   "source": [
    "def dayOfProgrammer(year):\n",
    "    import datetime\n",
    "    if year >= 1700 and year <= 1917:\n",
    "        if year % 4 == 0:\n",
    "            d = datetime.datetime(year, 9, 12)\n",
    "            return d.strftime('%d.%m.%Y')\n",
    "        else:\n",
    "            d = datetime.datetime(year, 9, 13)\n",
    "            return d.strftime('%d.%m.%Y')\n",
    "        \n",
    "    elif year == 1918:\n",
    "        d = datetime.datetime(year, 9, 27)\n",
    "        return d.strftime('%d.%m.%Y')\n",
    "        \n",
    "    else:\n",
    "        if (year % 4 == 0 and year%100 != 0) or (year % 400 == 0):\n",
    "            d = datetime.datetime(year, 9, 12)\n",
    "            return d.strftime('%d.%m.%Y')\n",
    "        else:\n",
    "            d = datetime.datetime(year, 9, 13)\n",
    "            return d.strftime('%d.%m.%Y')"
   ]
  },
  {
   "cell_type": "code",
   "execution_count": 260,
   "metadata": {},
   "outputs": [
    {
     "data": {
      "text/plain": [
       "'27.09.1918'"
      ]
     },
     "execution_count": 260,
     "metadata": {},
     "output_type": "execute_result"
    }
   ],
   "source": [
    "dayOfProgrammer(1918)"
   ]
  },
  {
   "cell_type": "code",
   "execution_count": 256,
   "metadata": {},
   "outputs": [
    {
     "data": {
      "text/plain": [
       "'25.09.1993'"
      ]
     },
     "execution_count": 256,
     "metadata": {},
     "output_type": "execute_result"
    }
   ],
   "source": [
    "year = 2010\n",
    "import datetime\n",
    "d = datetime.datetime(1993, 9, 25)\n",
    "d.strftime('%d.%m.%Y')"
   ]
  },
  {
   "cell_type": "code",
   "execution_count": null,
   "metadata": {},
   "outputs": [],
   "source": []
  },
  {
   "cell_type": "markdown",
   "metadata": {},
   "source": [
    "## Bon Appétit\n",
    "\n",
    "Anna and Brian are sharing a meal at a restuarant and they agree to split the bill equally. Brian wants to order something that Anna is allergic to though, and they agree that Anna won't pay for that item. Brian gets the check and calculates Anna's portion. You must determine if his calculation is correct.\n",
    "\n",
    "For example, assume the bill has the following prices: bill = [2,4,6]. Anna declines to eat item k = bill[2] which costs 6. If Brian calculates the bill correctly, Anna will pay (2+4)/2. If he includes the cost of k, he will calculate (2+4+6)/2 = 6. In the second case, he should refund 3 to Anna."
   ]
  },
  {
   "cell_type": "code",
   "execution_count": 16,
   "metadata": {},
   "outputs": [],
   "source": [
    "def bonAppetit(bill, k, b):\n",
    "    if ((sum(bill) - bill[k])//2) == b:\n",
    "        return 'Bon Appetit'\n",
    "    else:\n",
    "        return b - (sum(bill) - bill[k])//2"
   ]
  },
  {
   "cell_type": "code",
   "execution_count": 17,
   "metadata": {},
   "outputs": [
    {
     "data": {
      "text/plain": [
       "5"
      ]
     },
     "execution_count": 17,
     "metadata": {},
     "output_type": "execute_result"
    }
   ],
   "source": [
    "bonAppetit([3,10,2,9],1,12)"
   ]
  },
  {
   "cell_type": "code",
   "execution_count": 18,
   "metadata": {},
   "outputs": [
    {
     "data": {
      "text/plain": [
       "'Bon Appetit'"
      ]
     },
     "execution_count": 18,
     "metadata": {},
     "output_type": "execute_result"
    }
   ],
   "source": [
    "bonAppetit([3,10,2,9],1,7)"
   ]
  },
  {
   "cell_type": "code",
   "execution_count": 297,
   "metadata": {},
   "outputs": [
    {
     "data": {
      "text/plain": [
       "2"
      ]
     },
     "execution_count": 297,
     "metadata": {},
     "output_type": "execute_result"
    }
   ],
   "source": [
    "5//2"
   ]
  },
  {
   "cell_type": "code",
   "execution_count": 1,
   "metadata": {},
   "outputs": [
    {
     "data": {
      "text/plain": [
       "9"
      ]
     },
     "execution_count": 1,
     "metadata": {},
     "output_type": "execute_result"
    }
   ],
   "source": [
    "bill = [2,3,4]\n",
    "sum(bill)"
   ]
  },
  {
   "cell_type": "markdown",
   "metadata": {},
   "source": [
    "## Sock Merchant\n",
    "John works at a clothing store. He has a large pile of socks that he must pair by color for sale. Given an array of integers representing the color of each sock, determine how many pairs of socks with matching colors there are.\n",
    "\n",
    "For example, there are 7 socks with colors ar = [1,2,1,2,1,3,2]. There is one pair of color 1 and one of color 2. There are three odd socks left, one of each color. The number of pairs is 2."
   ]
  },
  {
   "cell_type": "code",
   "execution_count": 314,
   "metadata": {},
   "outputs": [],
   "source": [
    "def sockMerchant(n, ar):\n",
    "    sock_dict = {}\n",
    "    for i in ar:\n",
    "        if i in sock_dict:\n",
    "            sock_dict[i] += 1\n",
    "        else:\n",
    "            sock_dict[i] = 1\n",
    "    lis = [i//2 for i in list(sock_dict.values())]\n",
    "    return sum(lis)\n",
    "        "
   ]
  },
  {
   "cell_type": "code",
   "execution_count": 315,
   "metadata": {},
   "outputs": [
    {
     "data": {
      "text/plain": [
       "3"
      ]
     },
     "execution_count": 315,
     "metadata": {},
     "output_type": "execute_result"
    }
   ],
   "source": [
    "sockMerchant(9, [10, 20, 20, 10, 10, 30, 50, 10, 20])"
   ]
  },
  {
   "cell_type": "code",
   "execution_count": 310,
   "metadata": {},
   "outputs": [],
   "source": [
    "dic = {}\n",
    "dic['key'] = 1\n",
    "dic['key2'] = 4"
   ]
  },
  {
   "cell_type": "code",
   "execution_count": 311,
   "metadata": {},
   "outputs": [
    {
     "data": {
      "text/plain": [
       "2"
      ]
     },
     "execution_count": 311,
     "metadata": {},
     "output_type": "execute_result"
    }
   ],
   "source": [
    "sum([i//2 for i in list(dic.values())])"
   ]
  },
  {
   "cell_type": "code",
   "execution_count": null,
   "metadata": {},
   "outputs": [],
   "source": []
  },
  {
   "cell_type": "markdown",
   "metadata": {},
   "source": [
    "## Drawing Book\n",
    "Brie’s Drawing teacher asks her class to open their books to a page number. Brie can either start turning pages from the front of the book or from the back of the book. She always turns pages one at a time. When she opens the book, page 1 is always on the right side.\n"
   ]
  },
  {
   "cell_type": "code",
   "execution_count": 356,
   "metadata": {},
   "outputs": [],
   "source": [
    "def pageCount(n, p):  \n",
    "    if (n-p) <= (p-1):\n",
    "        if p%2 ==0:\n",
    "            return (n-p)//2\n",
    "        else: \n",
    "            return (n-p+1)//2\n",
    "    else:\n",
    "        return p //2 "
   ]
  },
  {
   "cell_type": "code",
   "execution_count": 357,
   "metadata": {},
   "outputs": [
    {
     "data": {
      "text/plain": [
       "0"
      ]
     },
     "execution_count": 357,
     "metadata": {},
     "output_type": "execute_result"
    }
   ],
   "source": [
    "pageCount(2, 1)"
   ]
  },
  {
   "cell_type": "code",
   "execution_count": null,
   "metadata": {},
   "outputs": [],
   "source": []
  },
  {
   "cell_type": "markdown",
   "metadata": {},
   "source": [
    "## Counting Valleys\n",
    "\n",
    "Gary is an avid hiker. He tracks his hikes meticulously, paying close attention to small details like topography. During his last hike he took exactly n steps. For every step he took, he noted if it was an uphill, U, or a downhill, D step. Gary's hikes start and end at sea level and each step up or down represents a 1 unit change in altitude. We define the following terms:\n",
    "\n",
    "A mountain is a sequence of consecutive steps above sea level, starting with a step up from sea level and ending with a step down to sea level.\n",
    "A valley is a sequence of consecutive steps below sea level, starting with a step down from sea level and ending with a step up to sea level.\n",
    "\n",
    "Given Gary's sequence of up and down steps during his last hike, find and print the number of valleys he walked through.\n",
    "\n",
    "For example, if Gary's path is s = [DDUUUUD], he first enters a valley 2 units deep. Then he climbs out an up onto a mountain 2 units high. Finally, he returns to sea level and ends his hike."
   ]
  },
  {
   "cell_type": "code",
   "execution_count": 389,
   "metadata": {},
   "outputs": [],
   "source": [
    "def countingValleys(n, s):\n",
    "    valley_count = 0\n",
    "    \n",
    "    #convert the letter path list into +1 and -1\n",
    "    converted_list = []\n",
    "    for i in s:\n",
    "        if i == 'U':\n",
    "            converted_list.append(1)\n",
    "        else:\n",
    "            converted_list.append(-1)\n",
    "    \n",
    "    #create a progress list where each value is the progress after each step\n",
    "    progress_list = [0]\n",
    "    progress = 0\n",
    "    for i in converted_list:\n",
    "        progress += i\n",
    "        progress_list.append(progress)\n",
    "    \n",
    "    #to get rid of the last 0 in the progress_list, becuase the path ends in 0 but there's nothing after that 0\n",
    "    progress_list.pop()\n",
    "    for i in range(0, n):\n",
    "        if progress_list[i] == 0 and progress_list[i+1] < 0:\n",
    "            valley_count += 1\n",
    "    \n",
    "    return valley_count\n"
   ]
  },
  {
   "cell_type": "code",
   "execution_count": 390,
   "metadata": {},
   "outputs": [
    {
     "data": {
      "text/plain": [
       "1"
      ]
     },
     "execution_count": 390,
     "metadata": {},
     "output_type": "execute_result"
    }
   ],
   "source": [
    "countingValleys(8, ['U','D','D','D','U','D','U','U'])"
   ]
  },
  {
   "cell_type": "code",
   "execution_count": 395,
   "metadata": {},
   "outputs": [],
   "source": [
    "# Alternative answer given in the editorial:\n",
    "def countingValleys(n,s):\n",
    "    height = 0\n",
    "    prev_height = 0\n",
    "    cnt = 0\n",
    "    n = input()\n",
    "    s = raw_input().strip()\n",
    "    for i in range(len(s)):\n",
    "        if (s[i] == 'U'):\n",
    "            height += 1\n",
    "        elif s[i] == 'D':\n",
    "            height -= 1\n",
    "        if height == 0 and prev_height < 0:\n",
    "            cnt += 1\n",
    "        prev_height = height\n",
    "    \n",
    "    return cnt"
   ]
  },
  {
   "cell_type": "code",
   "execution_count": null,
   "metadata": {},
   "outputs": [],
   "source": []
  },
  {
   "cell_type": "markdown",
   "metadata": {},
   "source": [
    "## Electronic Shop\n",
    "\n",
    "Monica wants to buy a keyboard and a USB drive from her favorite electronics store. The store has several models of each. Monica wants to spend as much as possible for the 2 items, given her budget.\n",
    "\n",
    "Given the price lists for the store's keyboards and USB drives, and Monica's budget, find and print the amount of money Monica will spend. If she doesn't have enough money to both a keyboard and a USB drive, print -1 instead. She will buy only the two required items.\n",
    "\n",
    "For example, suppose she has b=60 to spend. Three types of keyboards cost keyboards = [40,50,60]. Two USB drives cost drives = [5,8,12]. She could purchase a 40keybaord + 12drive = 52, or a 50keyboard + 8drive = 58. She chooses the latter. She can't buy more than 2 items so she can't spend exactly ."
   ]
  },
  {
   "cell_type": "code",
   "execution_count": 402,
   "metadata": {},
   "outputs": [],
   "source": [
    "def getMoneySpent(keyboards, drives, b):\n",
    "    price_list = []\n",
    "    for i in drives:\n",
    "        for j in keyboards:\n",
    "            if i+j <= b:\n",
    "                price_list.append(i+j)\n",
    "    if price_list == []:\n",
    "        return -1\n",
    "    else:\n",
    "        return max(price_list)"
   ]
  },
  {
   "cell_type": "code",
   "execution_count": 403,
   "metadata": {},
   "outputs": [
    {
     "data": {
      "text/plain": [
       "-1"
      ]
     },
     "execution_count": 403,
     "metadata": {},
     "output_type": "execute_result"
    }
   ],
   "source": [
    "getMoneySpent([4], [5], 5)"
   ]
  },
  {
   "cell_type": "code",
   "execution_count": null,
   "metadata": {},
   "outputs": [],
   "source": []
  },
  {
   "cell_type": "markdown",
   "metadata": {},
   "source": [
    "## Cats and Mouse\n",
    "\n",
    "Two cats and a mouse are at various positions on a line. You will be given their starting positions. Your task is to determine which cat will reach the mouse first, assuming the mouse doesn't move and the cats travel at equal speed. If the cats arrive at the same time, the mouse will be allowed to move and it will escape while they fight.\n",
    "\n",
    "You are given q queries in the form of x, y, and z representing the respective positions for cats A and B, and for mouse C. Complete the function catsAndMouse to return the appropriate answer to each query, which will be printed on a new line."
   ]
  },
  {
   "cell_type": "code",
   "execution_count": 404,
   "metadata": {},
   "outputs": [],
   "source": [
    "def catAndMouse(x, y, z):\n",
    "    if abs(z-x) == abs(z-y):\n",
    "        return 'Mouse C'\n",
    "    elif abs(z-x) < abs(z-y):\n",
    "        return 'Cat A'\n",
    "    else:\n",
    "        return 'Cat B'"
   ]
  },
  {
   "cell_type": "code",
   "execution_count": 405,
   "metadata": {},
   "outputs": [
    {
     "data": {
      "text/plain": [
       "'Cat B'"
      ]
     },
     "execution_count": 405,
     "metadata": {},
     "output_type": "execute_result"
    }
   ],
   "source": [
    "catAndMouse(1, 2, 3)"
   ]
  },
  {
   "cell_type": "code",
   "execution_count": null,
   "metadata": {},
   "outputs": [],
   "source": []
  },
  {
   "cell_type": "code",
   "execution_count": null,
   "metadata": {},
   "outputs": [],
   "source": []
  },
  {
   "cell_type": "code",
   "execution_count": 1,
   "metadata": {},
   "outputs": [],
   "source": [
    "def formingMagicSquare(s):\n",
    "    diff_list = []\n",
    "    import numpy\n",
    "    A = numpy.full((3,3),1)\n",
    "    diff_list.append(sum(sum(abs(numpy.subtract(A,s)))))\n",
    "    B = numpy.full((3,3),2)\n",
    "    diff_list.append(sum(sum(abs(numpy.subtract(B,s)))))\n",
    "    C = numpy.full((3,3),3)\n",
    "    diff_list.append(sum(sum(abs(numpy.subtract(C,s)))))\n",
    "    D = numpy.full((3,3),4)\n",
    "    diff_list.append(sum(sum(abs(numpy.subtract(D,s)))))\n",
    "    E = numpy.full((3,3),5)\n",
    "    diff_list.append(sum(sum(abs(numpy.subtract(E,s)))))\n",
    "    F = numpy.full((3,3),6)\n",
    "    diff_list.append(sum(sum(abs(numpy.subtract(F,s)))))\n",
    "    G = numpy.full((3,3),7)\n",
    "    diff_list.append(sum(sum(abs(numpy.subtract(G,s)))))\n",
    "    H = numpy.full((3,3),8)\n",
    "    diff_list.append(sum(sum(abs(numpy.subtract(H,s)))))\n",
    "    I = numpy.full((3,3),9)\n",
    "    diff_list.append(sum(sum(abs(numpy.subtract(I,s)))))\n",
    "\n",
    "    shape = (3,3)\n",
    "    J = numpy.array([6,7,2,1,5,9,8,3,4])\n",
    "    J = J.reshape(shape)\n",
    "    diff_list.append(sum(sum(abs(numpy.subtract(J,s)))))\n",
    "\n",
    "    K = numpy.array([8,1,6,3,5,7,4,9,2]).reshape(shape)\n",
    "    diff_list.append(sum(sum(abs(numpy.subtract(K,s)))))\n",
    "    L = numpy.array([4,3,8,9,5,1,2,7,6]).reshape(shape)\n",
    "    diff_list.append(sum(sum(abs(numpy.subtract(L,s)))))\n",
    "    M = numpy.array([2,9,4,7,5,3,6,1,8]).reshape(shape)\n",
    "    diff_list.append(sum(sum(abs(numpy.subtract(M,s)))))\n",
    "    N = numpy.array([2,7,6,9,5,1,4,3,8]).reshape(shape)\n",
    "    diff_list.append(sum(sum(abs(numpy.subtract(N,s)))))\n",
    "    O = numpy.array([6,1,8,7,5,3,2,9,4]).reshape(shape)\n",
    "    diff_list.append(sum(sum(abs(numpy.subtract(O,s)))))\n",
    "    P = numpy.array([8,3,4,1,5,9,6,7,2]).reshape(shape)\n",
    "    diff_list.append(sum(sum(abs(numpy.subtract(P,s)))))\n",
    "    Q = numpy.array([4,9,2,3,5,7,8,1,6]).reshape(shape)\n",
    "    diff_list.append(sum(sum(abs(numpy.subtract(Q,s)))))\n",
    "    \n",
    "    return min(diff_list)"
   ]
  },
  {
   "cell_type": "code",
   "execution_count": 454,
   "metadata": {},
   "outputs": [
    {
     "data": {
      "text/plain": [
       "(array([ 4,  7, 11]),)"
      ]
     },
     "execution_count": 454,
     "metadata": {},
     "output_type": "execute_result"
    }
   ],
   "source": [
    "arr = np.array([11, 12, 13, 14, 15, 16, 17, 15, 11, 12, 14, 15, 16, 17])\n",
    "result = np.where(arr == 15)\n",
    "result"
   ]
  },
  {
   "cell_type": "code",
   "execution_count": 457,
   "metadata": {},
   "outputs": [
    {
     "data": {
      "text/plain": [
       "(array([1, 2, 3]), array([1, 1, 2]))"
      ]
     },
     "execution_count": 457,
     "metadata": {},
     "output_type": "execute_result"
    }
   ],
   "source": [
    "arr = np.array([[11, 12, 13],\n",
    "                [14, 15, 16],\n",
    "                [17, 15, 11],\n",
    "                [12, 14, 15]])\n",
    "result = np.where(arr == 15)\n",
    "result"
   ]
  },
  {
   "cell_type": "code",
   "execution_count": 458,
   "metadata": {},
   "outputs": [
    {
     "data": {
      "text/plain": [
       "1"
      ]
     },
     "execution_count": 458,
     "metadata": {},
     "output_type": "execute_result"
    }
   ],
   "source": [
    "result[0][0]"
   ]
  },
  {
   "cell_type": "code",
   "execution_count": 19,
   "metadata": {},
   "outputs": [],
   "source": [
    "# Someone else's better answer\n",
    "def forming_magic_square(s):\n",
    "    s = sum(s, [])  # flaten s\n",
    "\n",
    "    #  All possible magic squares of 3x3 order\n",
    "    magic_squares = [\n",
    "        [8, 1, 6, 3, 5, 7, 4, 9, 2],\n",
    "        [6, 1, 8, 7, 5, 3, 2, 9, 4],\n",
    "        [4, 9, 2, 3, 5, 7, 8, 1, 6],\n",
    "        [2, 9, 4, 7, 5, 3, 6, 1, 8],\n",
    "        [8, 3, 4, 1, 5, 9, 6, 7, 2],\n",
    "        [4, 3, 8, 9, 5, 1, 2, 7, 6],\n",
    "        [6, 7, 2, 1, 5, 9, 8, 3, 4],\n",
    "        [2, 7, 6, 9, 5, 1, 4, 3, 8],\n",
    "    ]\n",
    "\n",
    "    costs = []  # this variable will contain all possible costs\n",
    "\n",
    "    for magic_square in magic_squares:\n",
    "        costs.append(sum([abs(magic_square[i] - s[i]) for i in range(9)]))\n",
    "\n",
    "    return min(costs) "
   ]
  },
  {
   "cell_type": "code",
   "execution_count": null,
   "metadata": {},
   "outputs": [],
   "source": []
  },
  {
   "cell_type": "markdown",
   "metadata": {},
   "source": [
    "## The Hurdle Race\n",
    "Dan is playing a video game in which his character competes in a hurdle race. Hurdles are of varying heights, and Dan has a maximum height he can jump. There is a magic potion he can take that will increase his maximum height by 1 unit for each dose. How many doses of the potion must he take to be able to jump all of the hurdles.\n",
    "\n",
    "Given an array of hurdle heights height, and an initial maximum height Dan can jump, k, determine the minimum number of doses Dan must take to be able to clear all the hurdles in the race.\n",
    "\n",
    "For example, if height=[1,2,3,3,2] and Dan can jump 1 unit high naturally, he must take 3-1 = 2 doses of potion to be able to jump all of the hurdles."
   ]
  },
  {
   "cell_type": "code",
   "execution_count": 2,
   "metadata": {},
   "outputs": [],
   "source": [
    "def hurdleRace(k, height):\n",
    "    if max(height) > k:\n",
    "        return max(height) - k\n",
    "    else: \n",
    "        return 0"
   ]
  },
  {
   "cell_type": "code",
   "execution_count": null,
   "metadata": {},
   "outputs": [],
   "source": []
  },
  {
   "cell_type": "code",
   "execution_count": null,
   "metadata": {},
   "outputs": [],
   "source": []
  },
  {
   "cell_type": "markdown",
   "metadata": {},
   "source": [
    "## Designer PDF Viewer\n",
    "In this challenge, you will be given a list of letter heights in the alphabet and a string. Using the letter heights given, determine the area of the rectangle highlight in mm^2 assuming all letters are 1mm wide.\n",
    "\n",
    "For example, the highlighted word = 'torn'. Assume the heights of the letters are t=1, o=1, r=2 and n=1. The tallest letter is 2mm high and there are 4 letters. The hightlighted area will be 8mm^2 so the answer is 8."
   ]
  },
  {
   "cell_type": "code",
   "execution_count": 3,
   "metadata": {},
   "outputs": [],
   "source": [
    "def designerPdfViewer(h, word):\n",
    "    import string\n",
    "    height_list = []\n",
    "    word = word.lower()\n",
    "    for i in word:\n",
    "        ind = string.ascii_lowercase.index(i)\n",
    "        height = h[ind]\n",
    "        height_list.append(height)\n",
    "    return max(height_list) * len(word)"
   ]
  },
  {
   "cell_type": "code",
   "execution_count": null,
   "metadata": {},
   "outputs": [],
   "source": []
  },
  {
   "cell_type": "code",
   "execution_count": null,
   "metadata": {},
   "outputs": [],
   "source": []
  },
  {
   "cell_type": "markdown",
   "metadata": {},
   "source": [
    "## Utopian Tree\n",
    "The Utopian Tree goes through 2 cycles of growth every year. Each spring, it doubles in height. Each summer, its height increases by 1 meter.\n",
    "\n",
    "Laura plants a Utopian Tree sapling with a height of 1 meter at the onset of spring. How tall will her tree be after n growth cycles?"
   ]
  },
  {
   "cell_type": "code",
   "execution_count": 4,
   "metadata": {},
   "outputs": [],
   "source": [
    "def utopianTree(n):\n",
    "    h = 1\n",
    "    for i in list(range(1,n+1)):\n",
    "        if i%2 != 0:\n",
    "            h = 2*h\n",
    "        else:\n",
    "            h += 1\n",
    "    return h"
   ]
  },
  {
   "cell_type": "code",
   "execution_count": null,
   "metadata": {},
   "outputs": [],
   "source": []
  },
  {
   "cell_type": "markdown",
   "metadata": {},
   "source": [
    "## Angry Professor\n",
    "A Discrete Mathematics professor has a class of students. Frustrated with their lack of discipline, he decides to cancel class if fewer than some number of students are present when class starts. Arrival times go from on time (arrivalTime<=0) to arrived late (arrivalTime>0).\n",
    "\n",
    "Given the arrival time of each student and a threshhold number of attendees, determine if the class is canceled."
   ]
  },
  {
   "cell_type": "code",
   "execution_count": 5,
   "metadata": {},
   "outputs": [],
   "source": [
    "def angryProfessor(k, a):\n",
    "    ontime_counter = 0\n",
    "    for i in a:\n",
    "        if i <= 0:\n",
    "            ontime_counter += 1\n",
    "    if ontime_counter >= k:\n",
    "        return 'NO'\n",
    "    else:\n",
    "        return 'YES'"
   ]
  },
  {
   "cell_type": "code",
   "execution_count": null,
   "metadata": {},
   "outputs": [],
   "source": []
  },
  {
   "cell_type": "markdown",
   "metadata": {},
   "source": [
    "## Pangrams\n",
    "Roy wanted to increase his typing speed for programming contests. His friend suggested that he type the sentence \"The quick brown fox jumps over the lazy dog\" repeatedly. This sentence is known as a pangram because it contains every letter of the alphabet.\n",
    "\n",
    "After typing the sentence several times, Roy became bored with it so he started to look for other pangrams.\n",
    "\n",
    "Given a sentence, determine whether it is a pangram. Ignore case."
   ]
  },
  {
   "cell_type": "code",
   "execution_count": 6,
   "metadata": {},
   "outputs": [],
   "source": [
    "def pangrams(s):\n",
    "    alphabet = set(string.ascii_lowercase)\n",
    "    sent = set(s.lower())\n",
    "    if alphabet.issubset(sent):\n",
    "        return 'pangram'\n",
    "    else:\n",
    "        return 'not pangram'"
   ]
  },
  {
   "cell_type": "code",
   "execution_count": null,
   "metadata": {},
   "outputs": [],
   "source": []
  },
  {
   "cell_type": "markdown",
   "metadata": {},
   "source": [
    "## Beautiful Days at the Movies\n",
    "Lily likes to play games with integers. She has created a new game where she determines the difference between a number and its reverse. For instance, given the number 12, its reverse is 21. Their difference is 9. The number 120 reversed is 21, and their difference is 99.\n",
    "\n",
    "She decides to apply her game to decision making. She will look at a numbered range of days and will only go to a movie on a beautiful day.\n",
    "\n",
    "Given a range of numbered days, [i...j] and a number k, determine the number of days in the range that are beautiful. Beautiful numbers are defined as numbers where |i-reverse| is evenly divisible by k. If a day's value is a beautiful number, it is a beautiful day. Print the number of beautiful days in the range."
   ]
  },
  {
   "cell_type": "code",
   "execution_count": 40,
   "metadata": {},
   "outputs": [],
   "source": [
    "def beautifulDays(i, j, k):\n",
    "    counter = 0\n",
    "    for x in list(range(i,j+1)):\n",
    "        no_str = str(x)\n",
    "        no_list = list(no_str)\n",
    "        no_list.reverse()\n",
    "        rev_str = ''.join([str(i) for i in no_list])\n",
    "        rev_int = int(rev_str)\n",
    "        if abs(x-rev_int) % k == 0:\n",
    "            counter += 1\n",
    "    return counter"
   ]
  },
  {
   "cell_type": "code",
   "execution_count": 41,
   "metadata": {},
   "outputs": [
    {
     "data": {
      "text/plain": [
       "33"
      ]
     },
     "execution_count": 41,
     "metadata": {},
     "output_type": "execute_result"
    }
   ],
   "source": [
    "beautifulDays(13, 45, 3)"
   ]
  },
  {
   "cell_type": "code",
   "execution_count": 16,
   "metadata": {},
   "outputs": [],
   "source": [
    "a = list(range(20,23))"
   ]
  },
  {
   "cell_type": "code",
   "execution_count": 29,
   "metadata": {},
   "outputs": [
    {
     "data": {
      "text/plain": [
       "'123'"
      ]
     },
     "execution_count": 29,
     "metadata": {},
     "output_type": "execute_result"
    }
   ],
   "source": [
    "a = [1,2,3]\n",
    "''.join([str(i) for i in a])"
   ]
  },
  {
   "cell_type": "code",
   "execution_count": 36,
   "metadata": {},
   "outputs": [],
   "source": [
    "s = '123'\n",
    "b = list(s)\n",
    "c = b.reverse()\n",
    "c"
   ]
  },
  {
   "cell_type": "code",
   "execution_count": null,
   "metadata": {},
   "outputs": [],
   "source": []
  },
  {
   "cell_type": "markdown",
   "metadata": {},
   "source": [
    "## Viral Advertising\n",
    "HackerLand Enterprise is adopting a new viral advertising strategy. When they launch a new product, they advertise it to exactly 5 people on social media.\n",
    "\n",
    "On the first day, half of those 5 people (i.e.,floor(5/2)) like the advertisement and each shares it with 3 of their friends. At the beginning of the second day, 6 people receive the advertisement.\n",
    "\n",
    "Each day, floor(recipient/2) of the recipients like the advertisement and will share it with 3 friends on the following day. Assuming nobody receives the advertisement twice, determine how many people have liked the ad by the end of a given day, beginning with launch day as day 1.\n",
    "\n",
    "For example, assume you want to know how many have liked the ad by the end of the 5th day."
   ]
  },
  {
   "cell_type": "code",
   "execution_count": 46,
   "metadata": {},
   "outputs": [],
   "source": [
    "def viralAdvertising(n):\n",
    "    shared = 5\n",
    "    cum_liked = 2\n",
    "    counter = 1\n",
    "    liked = shared//2\n",
    "    \n",
    "    while counter < n:\n",
    "        shared = liked *3\n",
    "        liked = shared //2\n",
    "        cum_liked += liked\n",
    "        counter += 1\n",
    "    return cum_liked"
   ]
  },
  {
   "cell_type": "code",
   "execution_count": 47,
   "metadata": {},
   "outputs": [
    {
     "data": {
      "text/plain": [
       "9"
      ]
     },
     "execution_count": 47,
     "metadata": {},
     "output_type": "execute_result"
    }
   ],
   "source": [
    "viralAdvertising(3)"
   ]
  },
  {
   "cell_type": "code",
   "execution_count": null,
   "metadata": {},
   "outputs": [],
   "source": []
  },
  {
   "cell_type": "markdown",
   "metadata": {},
   "source": [
    "## Picking Numbers\n",
    "Given an array of integers, find and print the maximum number of integers you can select from the array such that the absolute difference between any two of the chosen integers is less than or equal to 1. For example, if your array is a = [1,1,2,2,4,4,5,5,5], you can create two subarrays meeting the criterion: [1,1,2,2] and [4,4,5,5,5]. The maximum length subarray has 5 elements."
   ]
  },
  {
   "cell_type": "code",
   "execution_count": 66,
   "metadata": {},
   "outputs": [],
   "source": [
    "def pickingNumbers(a):\n",
    "    a.sort()\n",
    "    counter = 0\n",
    "    no_list = []\n",
    "    \n",
    "    while len(a) > 1:\n",
    "        if a[1] - a[0] <= 1:\n",
    "            counter += 1\n",
    "            a.pop(1)\n",
    "            no_list.append(counter)\n",
    "\n",
    "        else:\n",
    "            counter = 1\n",
    "            no_list.append(counter)\n",
    "\n",
    "    return max(no_list)"
   ]
  },
  {
   "cell_type": "code",
   "execution_count": null,
   "metadata": {},
   "outputs": [],
   "source": [
    "pickingNumbers([1,2,2,3,1,2])"
   ]
  },
  {
   "cell_type": "code",
   "execution_count": 61,
   "metadata": {},
   "outputs": [
    {
     "ename": "KeyboardInterrupt",
     "evalue": "",
     "output_type": "error",
     "traceback": [
      "\u001b[0;31m---------------------------------------------------------------------------\u001b[0m",
      "\u001b[0;31mKeyboardInterrupt\u001b[0m                         Traceback (most recent call last)",
      "\u001b[0;32m<ipython-input-61-0d0543a68ccc>\u001b[0m in \u001b[0;36m<module>\u001b[0;34m\u001b[0m\n\u001b[0;32m----> 1\u001b[0;31m \u001b[0mpickingNumbers\u001b[0m\u001b[0;34m(\u001b[0m\u001b[0;34m[\u001b[0m\u001b[0;36m4\u001b[0m\u001b[0;34m,\u001b[0m\u001b[0;36m6\u001b[0m\u001b[0;34m,\u001b[0m\u001b[0;36m5\u001b[0m\u001b[0;34m,\u001b[0m\u001b[0;36m3\u001b[0m\u001b[0;34m,\u001b[0m\u001b[0;36m3\u001b[0m\u001b[0;34m,\u001b[0m\u001b[0;36m1\u001b[0m\u001b[0;34m]\u001b[0m\u001b[0;34m)\u001b[0m\u001b[0;34m\u001b[0m\u001b[0;34m\u001b[0m\u001b[0m\n\u001b[0m",
      "\u001b[0;32m<ipython-input-59-7a467028bdac>\u001b[0m in \u001b[0;36mpickingNumbers\u001b[0;34m(a)\u001b[0m\n\u001b[1;32m      4\u001b[0m     \u001b[0mno_list\u001b[0m \u001b[0;34m=\u001b[0m \u001b[0;34m[\u001b[0m\u001b[0;34m]\u001b[0m\u001b[0;34m\u001b[0m\u001b[0;34m\u001b[0m\u001b[0m\n\u001b[1;32m      5\u001b[0m \u001b[0;34m\u001b[0m\u001b[0m\n\u001b[0;32m----> 6\u001b[0;31m     \u001b[0;32mwhile\u001b[0m \u001b[0mlen\u001b[0m\u001b[0;34m(\u001b[0m\u001b[0ma\u001b[0m\u001b[0;34m)\u001b[0m \u001b[0;34m>\u001b[0m \u001b[0;36m1\u001b[0m\u001b[0;34m:\u001b[0m\u001b[0;34m\u001b[0m\u001b[0;34m\u001b[0m\u001b[0m\n\u001b[0m\u001b[1;32m      7\u001b[0m         \u001b[0;32mif\u001b[0m \u001b[0ma\u001b[0m\u001b[0;34m[\u001b[0m\u001b[0;36m1\u001b[0m\u001b[0;34m]\u001b[0m \u001b[0;34m-\u001b[0m \u001b[0ma\u001b[0m\u001b[0;34m[\u001b[0m\u001b[0;36m0\u001b[0m\u001b[0;34m]\u001b[0m \u001b[0;34m<=\u001b[0m \u001b[0;36m1\u001b[0m\u001b[0;34m:\u001b[0m\u001b[0;34m\u001b[0m\u001b[0;34m\u001b[0m\u001b[0m\n\u001b[1;32m      8\u001b[0m             \u001b[0mcounter\u001b[0m \u001b[0;34m+=\u001b[0m \u001b[0;36m1\u001b[0m\u001b[0;34m\u001b[0m\u001b[0;34m\u001b[0m\u001b[0m\n",
      "\u001b[0;31mKeyboardInterrupt\u001b[0m: "
     ]
    }
   ],
   "source": [
    "pickingNumbers([4,6,5,3,3,1])"
   ]
  },
  {
   "cell_type": "code",
   "execution_count": 50,
   "metadata": {},
   "outputs": [
    {
     "data": {
      "text/plain": [
       "0"
      ]
     },
     "execution_count": 50,
     "metadata": {},
     "output_type": "execute_result"
    }
   ],
   "source": [
    "a = [1,2,3,4,5]\n",
    "a.index(1)"
   ]
  },
  {
   "cell_type": "code",
   "execution_count": null,
   "metadata": {},
   "outputs": [],
   "source": [
    "for i in a:\n",
    "    if (a[a.index(i)+1] - i) <= 1:\n",
    "        "
   ]
  }
 ],
 "metadata": {
  "kernelspec": {
   "display_name": "Python 3",
   "language": "python",
   "name": "python3"
  },
  "language_info": {
   "codemirror_mode": {
    "name": "ipython",
    "version": 3
   },
   "file_extension": ".py",
   "mimetype": "text/x-python",
   "name": "python",
   "nbconvert_exporter": "python",
   "pygments_lexer": "ipython3",
   "version": "3.7.4"
  }
 },
 "nbformat": 4,
 "nbformat_minor": 2
}
